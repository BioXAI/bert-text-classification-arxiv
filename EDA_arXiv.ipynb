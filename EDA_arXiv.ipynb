{
 "cells": [
  {
   "cell_type": "code",
   "execution_count": 2,
   "metadata": {},
   "outputs": [],
   "source": [
    "import pandas as pd\n",
    "from itertools import chain\n",
    "import matplotlib.pyplot as plt\n",
    "%matplotlib inline\n",
    "\n",
    "ARXIV_FP= \"data/arxivData.json\""
   ]
  },
  {
   "cell_type": "code",
   "execution_count": 3,
   "metadata": {},
   "outputs": [
    {
     "data": {
      "text/html": [
       "<div>\n",
       "<style scoped>\n",
       "    .dataframe tbody tr th:only-of-type {\n",
       "        vertical-align: middle;\n",
       "    }\n",
       "\n",
       "    .dataframe tbody tr th {\n",
       "        vertical-align: top;\n",
       "    }\n",
       "\n",
       "    .dataframe thead th {\n",
       "        text-align: right;\n",
       "    }\n",
       "</style>\n",
       "<table border=\"1\" class=\"dataframe\">\n",
       "  <thead>\n",
       "    <tr style=\"text-align: right;\">\n",
       "      <th></th>\n",
       "      <th>author</th>\n",
       "      <th>day</th>\n",
       "      <th>id</th>\n",
       "      <th>link</th>\n",
       "      <th>month</th>\n",
       "      <th>summary</th>\n",
       "      <th>tag</th>\n",
       "      <th>title</th>\n",
       "      <th>year</th>\n",
       "      <th>author_list</th>\n",
       "      <th>tags_list</th>\n",
       "    </tr>\n",
       "  </thead>\n",
       "  <tbody>\n",
       "    <tr>\n",
       "      <th>0</th>\n",
       "      <td>[{'name': 'Ahmed Osman'}, {'name': 'Wojciech S...</td>\n",
       "      <td>1</td>\n",
       "      <td>1802.00209v1</td>\n",
       "      <td>[{'rel': 'alternate', 'href': 'http://arxiv.or...</td>\n",
       "      <td>2</td>\n",
       "      <td>We propose an architecture for VQA which utili...</td>\n",
       "      <td>[{'term': 'cs.AI', 'scheme': 'http://arxiv.org...</td>\n",
       "      <td>Dual Recurrent Attention Units for Visual Ques...</td>\n",
       "      <td>2018</td>\n",
       "      <td>[Ahmed Osman, Wojciech Samek]</td>\n",
       "      <td>[cs.AI, cs.CL, cs.CV, cs.NE, stat.ML]</td>\n",
       "    </tr>\n",
       "    <tr>\n",
       "      <th>1</th>\n",
       "      <td>[{'name': 'Ji Young Lee'}, {'name': 'Franck De...</td>\n",
       "      <td>12</td>\n",
       "      <td>1603.03827v1</td>\n",
       "      <td>[{'rel': 'alternate', 'href': 'http://arxiv.or...</td>\n",
       "      <td>3</td>\n",
       "      <td>Recent approaches based on artificial neural n...</td>\n",
       "      <td>[{'term': 'cs.CL', 'scheme': 'http://arxiv.org...</td>\n",
       "      <td>Sequential Short-Text Classification with Recu...</td>\n",
       "      <td>2016</td>\n",
       "      <td>[Ji Young Lee, Franck Dernoncourt]</td>\n",
       "      <td>[cs.CL, cs.AI, cs.LG, cs.NE, stat.ML]</td>\n",
       "    </tr>\n",
       "    <tr>\n",
       "      <th>2</th>\n",
       "      <td>[{'name': 'Iulian Vlad Serban'}, {'name': 'Tim...</td>\n",
       "      <td>2</td>\n",
       "      <td>1606.00776v2</td>\n",
       "      <td>[{'rel': 'alternate', 'href': 'http://arxiv.or...</td>\n",
       "      <td>6</td>\n",
       "      <td>We introduce the multiresolution recurrent neu...</td>\n",
       "      <td>[{'term': 'cs.CL', 'scheme': 'http://arxiv.org...</td>\n",
       "      <td>Multiresolution Recurrent Neural Networks: An ...</td>\n",
       "      <td>2016</td>\n",
       "      <td>[Iulian Vlad Serban, Tim Klinger, Gerald Tesau...</td>\n",
       "      <td>[cs.CL, cs.AI, cs.LG, cs.NE, stat.ML, I.5.1; I...</td>\n",
       "    </tr>\n",
       "    <tr>\n",
       "      <th>3</th>\n",
       "      <td>[{'name': 'Sebastian Ruder'}, {'name': 'Joachi...</td>\n",
       "      <td>23</td>\n",
       "      <td>1705.08142v2</td>\n",
       "      <td>[{'rel': 'alternate', 'href': 'http://arxiv.or...</td>\n",
       "      <td>5</td>\n",
       "      <td>Multi-task learning is motivated by the observ...</td>\n",
       "      <td>[{'term': 'stat.ML', 'scheme': 'http://arxiv.o...</td>\n",
       "      <td>Learning what to share between loosely related...</td>\n",
       "      <td>2017</td>\n",
       "      <td>[Sebastian Ruder, Joachim Bingel, Isabelle Aug...</td>\n",
       "      <td>[stat.ML, cs.AI, cs.CL, cs.LG, cs.NE]</td>\n",
       "    </tr>\n",
       "    <tr>\n",
       "      <th>4</th>\n",
       "      <td>[{'name': 'Iulian V. Serban'}, {'name': 'Chinn...</td>\n",
       "      <td>7</td>\n",
       "      <td>1709.02349v2</td>\n",
       "      <td>[{'rel': 'alternate', 'href': 'http://arxiv.or...</td>\n",
       "      <td>9</td>\n",
       "      <td>We present MILABOT: a deep reinforcement learn...</td>\n",
       "      <td>[{'term': 'cs.CL', 'scheme': 'http://arxiv.org...</td>\n",
       "      <td>A Deep Reinforcement Learning Chatbot</td>\n",
       "      <td>2017</td>\n",
       "      <td>[Iulian V. Serban, Chinnadhurai Sankar, Mathie...</td>\n",
       "      <td>[cs.CL, cs.AI, cs.LG, cs.NE, stat.ML, I.5.1; I...</td>\n",
       "    </tr>\n",
       "  </tbody>\n",
       "</table>\n",
       "</div>"
      ],
      "text/plain": [
       "                                              author  day            id  \\\n",
       "0  [{'name': 'Ahmed Osman'}, {'name': 'Wojciech S...    1  1802.00209v1   \n",
       "1  [{'name': 'Ji Young Lee'}, {'name': 'Franck De...   12  1603.03827v1   \n",
       "2  [{'name': 'Iulian Vlad Serban'}, {'name': 'Tim...    2  1606.00776v2   \n",
       "3  [{'name': 'Sebastian Ruder'}, {'name': 'Joachi...   23  1705.08142v2   \n",
       "4  [{'name': 'Iulian V. Serban'}, {'name': 'Chinn...    7  1709.02349v2   \n",
       "\n",
       "                                                link  month  \\\n",
       "0  [{'rel': 'alternate', 'href': 'http://arxiv.or...      2   \n",
       "1  [{'rel': 'alternate', 'href': 'http://arxiv.or...      3   \n",
       "2  [{'rel': 'alternate', 'href': 'http://arxiv.or...      6   \n",
       "3  [{'rel': 'alternate', 'href': 'http://arxiv.or...      5   \n",
       "4  [{'rel': 'alternate', 'href': 'http://arxiv.or...      9   \n",
       "\n",
       "                                             summary  \\\n",
       "0  We propose an architecture for VQA which utili...   \n",
       "1  Recent approaches based on artificial neural n...   \n",
       "2  We introduce the multiresolution recurrent neu...   \n",
       "3  Multi-task learning is motivated by the observ...   \n",
       "4  We present MILABOT: a deep reinforcement learn...   \n",
       "\n",
       "                                                 tag  \\\n",
       "0  [{'term': 'cs.AI', 'scheme': 'http://arxiv.org...   \n",
       "1  [{'term': 'cs.CL', 'scheme': 'http://arxiv.org...   \n",
       "2  [{'term': 'cs.CL', 'scheme': 'http://arxiv.org...   \n",
       "3  [{'term': 'stat.ML', 'scheme': 'http://arxiv.o...   \n",
       "4  [{'term': 'cs.CL', 'scheme': 'http://arxiv.org...   \n",
       "\n",
       "                                               title  year  \\\n",
       "0  Dual Recurrent Attention Units for Visual Ques...  2018   \n",
       "1  Sequential Short-Text Classification with Recu...  2016   \n",
       "2  Multiresolution Recurrent Neural Networks: An ...  2016   \n",
       "3  Learning what to share between loosely related...  2017   \n",
       "4              A Deep Reinforcement Learning Chatbot  2017   \n",
       "\n",
       "                                         author_list  \\\n",
       "0                      [Ahmed Osman, Wojciech Samek]   \n",
       "1                 [Ji Young Lee, Franck Dernoncourt]   \n",
       "2  [Iulian Vlad Serban, Tim Klinger, Gerald Tesau...   \n",
       "3  [Sebastian Ruder, Joachim Bingel, Isabelle Aug...   \n",
       "4  [Iulian V. Serban, Chinnadhurai Sankar, Mathie...   \n",
       "\n",
       "                                           tags_list  \n",
       "0              [cs.AI, cs.CL, cs.CV, cs.NE, stat.ML]  \n",
       "1              [cs.CL, cs.AI, cs.LG, cs.NE, stat.ML]  \n",
       "2  [cs.CL, cs.AI, cs.LG, cs.NE, stat.ML, I.5.1; I...  \n",
       "3              [stat.ML, cs.AI, cs.CL, cs.LG, cs.NE]  \n",
       "4  [cs.CL, cs.AI, cs.LG, cs.NE, stat.ML, I.5.1; I...  "
      ]
     },
     "execution_count": 3,
     "metadata": {},
     "output_type": "execute_result"
    }
   ],
   "source": [
    "# read the arxiv input json file\n",
    "df = pd.read_json(ARXIV_FP, orient='records')\n",
    "\n",
    "# flatten author list names.\n",
    "# this is not the most elegant but is made to handle the variation in single/double quotes for name values:\n",
    "# \"author\": \"[{'name': 'Luciano Serafini'}, {'name': \\\"Artur d'Avila Garcez\\\"}]\",\n",
    "df['author_list'] = df['author'].apply(lambda author_str: [x.strip()[10:-2] for x in author_str[1:-1].split(\",\")])\n",
    "\n",
    " # flatten tags list\n",
    "def flatten_tags(tag_str):\n",
    "    tags = tag_str[1:-1].split(\"{'term': '\")\n",
    "    tags = list(filter(None, [tag.strip()[:tag.find(\"'\")] for tag in tags]))\n",
    "    return tags\n",
    "df['tags_list'] = df['tag'].apply(flatten_tags)\n",
    "df.head()"
   ]
  },
  {
   "cell_type": "code",
   "execution_count": 19,
   "metadata": {},
   "outputs": [
    {
     "name": "stdout",
     "output_type": "stream",
     "text": [
      "80579\n"
     ]
    },
    {
     "data": {
      "text/html": [
       "<div>\n",
       "<style scoped>\n",
       "    .dataframe tbody tr th:only-of-type {\n",
       "        vertical-align: middle;\n",
       "    }\n",
       "\n",
       "    .dataframe tbody tr th {\n",
       "        vertical-align: top;\n",
       "    }\n",
       "\n",
       "    .dataframe thead th {\n",
       "        text-align: right;\n",
       "    }\n",
       "</style>\n",
       "<table border=\"1\" class=\"dataframe\">\n",
       "  <thead>\n",
       "    <tr style=\"text-align: right;\">\n",
       "      <th></th>\n",
       "      <th>tag</th>\n",
       "      <th>counts</th>\n",
       "      <th>perc</th>\n",
       "      <th>perc_articles</th>\n",
       "    </tr>\n",
       "  </thead>\n",
       "  <tbody>\n",
       "    <tr>\n",
       "      <th>2169</th>\n",
       "      <td>cs.CV</td>\n",
       "      <td>13902</td>\n",
       "      <td>0.172526</td>\n",
       "      <td>0.339073</td>\n",
       "    </tr>\n",
       "    <tr>\n",
       "      <th>2184</th>\n",
       "      <td>cs.LG</td>\n",
       "      <td>13735</td>\n",
       "      <td>0.170454</td>\n",
       "      <td>0.335000</td>\n",
       "    </tr>\n",
       "    <tr>\n",
       "      <th>2161</th>\n",
       "      <td>cs.AI</td>\n",
       "      <td>10481</td>\n",
       "      <td>0.130071</td>\n",
       "      <td>0.255634</td>\n",
       "    </tr>\n",
       "    <tr>\n",
       "      <th>2290</th>\n",
       "      <td>stat.ML</td>\n",
       "      <td>10326</td>\n",
       "      <td>0.128148</td>\n",
       "      <td>0.251854</td>\n",
       "    </tr>\n",
       "    <tr>\n",
       "      <th>2166</th>\n",
       "      <td>cs.CL</td>\n",
       "      <td>6417</td>\n",
       "      <td>0.079636</td>\n",
       "      <td>0.156512</td>\n",
       "    </tr>\n",
       "    <tr>\n",
       "      <th>2190</th>\n",
       "      <td>cs.NE</td>\n",
       "      <td>3819</td>\n",
       "      <td>0.047394</td>\n",
       "      <td>0.093146</td>\n",
       "    </tr>\n",
       "    <tr>\n",
       "      <th>2182</th>\n",
       "      <td>cs.IR</td>\n",
       "      <td>1443</td>\n",
       "      <td>0.017908</td>\n",
       "      <td>0.035195</td>\n",
       "    </tr>\n",
       "    <tr>\n",
       "      <th>2235</th>\n",
       "      <td>math.OC</td>\n",
       "      <td>1020</td>\n",
       "      <td>0.012658</td>\n",
       "      <td>0.024878</td>\n",
       "    </tr>\n",
       "    <tr>\n",
       "      <th>2196</th>\n",
       "      <td>cs.RO</td>\n",
       "      <td>973</td>\n",
       "      <td>0.012075</td>\n",
       "      <td>0.023732</td>\n",
       "    </tr>\n",
       "    <tr>\n",
       "      <th>2185</th>\n",
       "      <td>cs.LO</td>\n",
       "      <td>643</td>\n",
       "      <td>0.007980</td>\n",
       "      <td>0.015683</td>\n",
       "    </tr>\n",
       "  </tbody>\n",
       "</table>\n",
       "</div>"
      ],
      "text/plain": [
       "          tag  counts      perc  perc_articles\n",
       "2169    cs.CV   13902  0.172526       0.339073\n",
       "2184    cs.LG   13735  0.170454       0.335000\n",
       "2161    cs.AI   10481  0.130071       0.255634\n",
       "2290  stat.ML   10326  0.128148       0.251854\n",
       "2166    cs.CL    6417  0.079636       0.156512\n",
       "2190    cs.NE    3819  0.047394       0.093146\n",
       "2182    cs.IR    1443  0.017908       0.035195\n",
       "2235  math.OC    1020  0.012658       0.024878\n",
       "2196    cs.RO     973  0.012075       0.023732\n",
       "2185    cs.LO     643  0.007980       0.015683"
      ]
     },
     "execution_count": 19,
     "metadata": {},
     "output_type": "execute_result"
    }
   ],
   "source": [
    "unique_lists_tags = df['tags_list'].values\n",
    "# unique_lists_tags\n",
    "list_of_tags = list(chain(*unique_lists_tags))\n",
    "# print(list_of_tags)\n",
    "df_tags = pd.DataFrame(list_of_tags, columns=[\"tag\"])\n",
    "df_tags = df_tags.groupby([\"tag\"]).size().reset_index(name='counts').sort_values(by='counts', ascending=False)\n",
    "df_tags['perc']= df_tags['counts']/df_tags['counts'].sum()\n",
    "df_tags['perc_articles']= df_tags['counts']/len(df.index)\n",
    "print(df_tags['counts'].sum())\n",
    "df_tags.head(10)"
   ]
  },
  {
   "cell_type": "code",
   "execution_count": 69,
   "metadata": {},
   "outputs": [
    {
     "data": {
      "image/png": "[encoded data removed]",
      "text/plain": [
       "<Figure size 432x288 with 1 Axes>"
      ]
     },
     "metadata": {
      "needs_background": "light"
     },
     "output_type": "display_data"
    }
   ],
   "source": [
    "df_tags.plot(kind='line',x=\"tag\", y=\"counts\", logy=True, title='Tags frequency');"
   ]
  },
  {
   "cell_type": "code",
   "execution_count": 12,
   "metadata": {},
   "outputs": [
    {
     "name": "stdout",
     "output_type": "stream",
     "text": [
      "Number of tags appearing more than once: 590\n"
     ]
    }
   ],
   "source": [
    "print(\"Number of tags appearing more than once: {}\".format(len(df_tags[df_tags[\"counts\"]>=2].index)))"
   ]
  },
  {
   "cell_type": "code",
   "execution_count": 33,
   "metadata": {},
   "outputs": [
    {
     "name": "stdout",
     "output_type": "stream",
     "text": [
      "{\"sets\": [0], \"label\": \"Computer Vision and Pattern Recognition\", \"size\": 13902},\n",
      "{\"sets\": [1], \"label\": \"Machine Learning (CS)\", \"size\": 13735},\n",
      "{\"sets\": [2], \"label\": \"Artificial Intelligence\", \"size\": 50481},\n",
      "{\"sets\": [3], \"label\": \"Machine Learning (Stat)\", \"size\": 10326},\n",
      "{\"sets\": [4], \"label\": \"Computation and Language\", \"size\": 6417},\n",
      "{\"sets\": [5], \"label\": \"Neural and Evolutionary Computing\", \"size\": 3819},\n",
      "{\"sets\": [6], \"label\": \"Information Retrieval\", \"size\": 1443},\n",
      "{\"sets\": [7], \"label\": \"Optimization and Control\", \"size\": 1020},\n",
      "{\"sets\": [8], \"label\": \"Robotics\", \"size\": 973},\n",
      "{\"sets\": [9], \"label\": \"Logic in Computer Science\", \"size\": 643},\n",
      "{\"sets\": [10], \"label\": \"Social and Information Networks\", \"size\": 639},\n",
      "{\"sets\": [2, 0], \"size\": 993},\n",
      "{\"sets\": [2, 1], \"size\": 2930},\n",
      "{\"sets\": [2, 2], \"size\": 10481},\n",
      "{\"sets\": [2, 3], \"size\": 1427},\n",
      "{\"sets\": [2, 4], \"size\": 679},\n",
      "{\"sets\": [2, 5], \"size\": 567},\n",
      "{\"sets\": [2, 6], \"size\": 362},\n",
      "{\"sets\": [2, 7], \"size\": 141},\n",
      "{\"sets\": [2, 8], \"size\": 458},\n",
      "{\"sets\": [2, 9], \"size\": 596},\n",
      "{\"sets\": [2, 10], \"size\": 120},\n"
     ]
    }
   ],
   "source": [
    " import itertools\n",
    "# look at co-occurrences of tags\n",
    "tags=[\n",
    "    [0 ,\"cs.CV\",\"Computer Vision and Pattern Recognition\",13902],\n",
    "[1, \"cs.LG\",\"Machine Learning (CS)\",13735],\n",
    "[2, \"cs.AI\",\"Artificial Intelligence\",50481],\n",
    "[3, \"stat.ML\",\"Machine Learning (Stat)\",10326],\n",
    "[4, \"cs.CL\",\"Computation and Language\",6417],\n",
    "[5, \"cs.NE\",\"Neural and Evolutionary Computing\",3819],\n",
    "[6, \"cs.IR\",\"Information Retrieval\",1443],\n",
    "[7, \"math.OC\",\"Optimization and Control\",1020],\n",
    "[8, \"cs.RO\",\"Robotics\",973],\n",
    "[9, \"cs.LO\",\"Logic in Computer Science\",643],\n",
    "[10, \"cs.SI\",\"Social and Information Networks\",639]\n",
    "    ]\n",
    "\n",
    "for tag in tags:\n",
    "    print(\"{{\\\"sets\\\": [{}], \\\"label\\\": \\\"{}\\\", \\\"size\\\": {}}},\".format(tag[0], tag[2], tag[3]))\n",
    "\n",
    "# for tag1, tag2 in list(itertools.combinations(tags, 2)):\n",
    "tag1 = tags[2]\n",
    "for tag2 in tags:\n",
    "    if tag!=tag1:\n",
    "        unique_lists_tags = df['tags_list'].values\n",
    "        cooccur = [((tag1[1] in list_tags) & (tag2[1] in list_tags))  for list_tags in unique_lists_tags]\n",
    "        print(\"{{\\\"sets\\\": [{}, {}], \\\"size\\\": {}}},\".format(tag1[0], tag2[0], sum(cooccur)))"
   ]
  },
  {
   "cell_type": "code",
   "execution_count": 16,
   "metadata": {},
   "outputs": [
    {
     "name": "stdout",
     "output_type": "stream",
     "text": [
      "Mean number of tags per article: 1.9653414634146342\n"
     ]
    }
   ],
   "source": [
    "lengths = [len(i) for i in unique_lists_tags]\n",
    "print(\"Mean number of tags per article: {}\".format((float(sum(lengths)) / len(lengths))))"
   ]
  },
  {
   "cell_type": "code",
   "execution_count": 74,
   "metadata": {},
   "outputs": [
    {
     "name": "stdout",
     "output_type": "stream",
     "text": [
      "10481\n"
     ]
    }
   ],
   "source": [
    "# set 1 if cs.AI is in the list\n",
    "filter_tag = \"cs.AI\"\n",
    "Y = [int((filter_tag in tags) == True) for tags in unique_lists_tags]\n",
    "print(sum(Y))"
   ]
  },
  {
   "cell_type": "code",
   "execution_count": 18,
   "metadata": {},
   "outputs": [
    {
     "data": {
      "text/plain": [
       "[<matplotlib.lines.Line2D at 0x1342ef828>]"
      ]
     },
     "execution_count": 18,
     "metadata": {},
     "output_type": "execute_result"
    },
    {
     "data": {
      "image/png": "[encoded data removed]",
      "text/plain": [
       "<Figure size 432x288 with 1 Axes>"
      ]
     },
     "metadata": {
      "needs_background": "light"
     },
     "output_type": "display_data"
    }
   ],
   "source": [
    "# token length of titles \n",
    "import numpy as np\n",
    "titles = df[\"title\"].values.tolist()\n",
    "titles = [title.replace('\\n ', '').replace('\\r', '') for title in titles]\n",
    "titles_len = np.sort([len(title.split(\" \")) for title in titles])[::-1]\n",
    "max(titles_len)\n",
    "max(titles_len)\n",
    "plt.plot(titles_len)"
   ]
  },
  {
   "cell_type": "code",
   "execution_count": 89,
   "metadata": {},
   "outputs": [
    {
     "data": {
      "text/plain": [
       "14"
      ]
     },
     "execution_count": 89,
     "metadata": {},
     "output_type": "execute_result"
    }
   ],
   "source": [
    "len(np.where( titles_len > 25 )[0])"
   ]
  },
  {
   "cell_type": "code",
   "execution_count": null,
   "metadata": {},
   "outputs": [],
   "source": []
  }
 ],
 "metadata": {
  "kernelspec": {
   "display_name": "Python [conda env:py36_bert-text-classification-arxiv]",
   "language": "python",
   "name": "conda-env-py36_bert-text-classification-arxiv-py"
  },
  "language_info": {
   "codemirror_mode": {
    "name": "ipython",
    "version": 3
   },
   "file_extension": ".py",
   "mimetype": "text/x-python",
   "name": "python",
   "nbconvert_exporter": "python",
   "pygments_lexer": "ipython3",
   "version": "3.6.8"
  }
 },
 "nbformat": 4,
 "nbformat_minor": 1
}
