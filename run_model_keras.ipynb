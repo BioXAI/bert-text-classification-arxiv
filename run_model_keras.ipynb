{
 "cells": [
  {
   "cell_type": "code",
   "execution_count": 228,
   "metadata": {},
   "outputs": [],
   "source": [
    "import tensorflow as tf\n",
    "from matplotlib import pyplot\n",
    "import numpy as np\n",
    "from sklearn.model_selection import train_test_split\n",
    "from sklearn.metrics import *\n",
    "from tensorflow.keras.models import Sequential\n",
    "from tensorflow.keras.layers import Dense\n"
   ]
  },
  {
   "cell_type": "code",
   "execution_count": 229,
   "metadata": {},
   "outputs": [],
   "source": [
    "X_TRAIN_FP = \"data/X_train.tsv\"\n",
    "X_TEST_FP = \"data/X_test.tsv\"\n",
    "Y_TRAIN_FP = \"data/y_train.tsv\"\n",
    "Y_TEST_FP = \"data/y_test.tsv\"\n",
    "TITLE_TRAIN_FP = \"data/title_train.tsv\"\n",
    "TITLE_TEST_FP = \"data/title_test.tsv\"\n",
    "LABELS_DICT = {0:\"non AI\", 1: \"AI\"}\n",
    "RANDOM_SEED = 1234\n",
    "tf.set_random_seed(1234)\n",
    "\n",
    "X_train = np.loadtxt(X_TRAIN_FP, delimiter=\"\\t\")\n",
    "X_test = np.loadtxt(X_TEST_FP, delimiter=\"\\t\")\n",
    "y_train = np.loadtxt(Y_TRAIN_FP, delimiter=\"\\t\")\n",
    "y_test = np.loadtxt(Y_TEST_FP, delimiter=\"\\t\")\n",
    "title_train = np.genfromtxt(TITLE_TRAIN_FP, delimiter=\"\\t\", dtype=\"str\")\n",
    "title_test = np.genfromtxt(TITLE_TEST_FP, delimiter=\"\\t\", dtype=\"str\")\n",
    "    "
   ]
  },
  {
   "cell_type": "code",
   "execution_count": 231,
   "metadata": {},
   "outputs": [],
   "source": [
    "model = Sequential()"
   ]
  },
  {
   "cell_type": "code",
   "execution_count": 232,
   "metadata": {},
   "outputs": [],
   "source": [
    "model.add(Dense(units=X_train.shape[1], input_dim=X_train.shape[1], activation='relu'))\n",
    "# model.add(Dense(units=100, activation='relu'))\n",
    "model.add(Dense(units=1, activation='sigmoid'))"
   ]
  },
  {
   "cell_type": "code",
   "execution_count": 233,
   "metadata": {},
   "outputs": [],
   "source": [
    "from tensorflow.contrib.keras import losses,optimizers,metrics"
   ]
  },
  {
   "cell_type": "code",
   "execution_count": 234,
   "metadata": {},
   "outputs": [],
   "source": [
    "model.compile(optimizer=tf.train.AdamOptimizer(0.001), loss='binary_crossentropy', \n",
    "              metrics=['accuracy', tf.keras.metrics.Precision(), tf.keras.metrics.Recall()])"
   ]
  },
  {
   "cell_type": "code",
   "execution_count": 235,
   "metadata": {},
   "outputs": [
    {
     "name": "stdout",
     "output_type": "stream",
     "text": [
      "Epoch 1/10\n",
      "32800/32800 [==============================] - 3s 91us/sample - loss: 0.5440 - acc: 0.8220 - precision_11: 0.7162 - recall_11: 0.7867\n",
      "Epoch 2/10\n",
      "32800/32800 [==============================] - 3s 84us/sample - loss: 0.4880 - acc: 0.8455 - precision_11: 0.7521 - recall_11: 0.8123\n",
      "Epoch 3/10\n",
      "32800/32800 [==============================] - 3s 84us/sample - loss: 0.4627 - acc: 0.8550 - precision_11: 0.7673 - recall_11: 0.8216s - loss: 0.4690 - acc: 0.8\n",
      "Epoch 4/10\n",
      "32800/32800 [==============================] - 3s 85us/sample - loss: 0.4414 - acc: 0.8621 - precision_11: 0.7757 - recall_11: 0.8347\n",
      "Epoch 5/10\n",
      "32800/32800 [==============================] - 3s 86us/sample - loss: 0.4183 - acc: 0.8712 - precision_11: 0.7903 - recall_11: 0.8439\n",
      "Epoch 6/10\n",
      "32800/32800 [==============================] - 3s 85us/sample - loss: 0.3964 - acc: 0.8775 - precision_11: 0.7979 - recall_11: 0.8552\n",
      "Epoch 7/10\n",
      "32800/32800 [==============================] - 3s 91us/sample - loss: 0.3740 - acc: 0.8861 - precision_11: 0.8119 - recall_11: 0.8642\n",
      "Epoch 8/10\n",
      "32800/32800 [==============================] - 3s 89us/sample - loss: 0.3558 - acc: 0.8902 - precision_11: 0.8163 - recall_11: 0.8728\n",
      "Epoch 9/10\n",
      "32800/32800 [==============================] - 3s 87us/sample - loss: 0.3331 - acc: 0.8985 - precision_11: 0.8296 - recall_11: 0.8818\n",
      "Epoch 10/10\n",
      "32800/32800 [==============================] - 3s 87us/sample - loss: 0.3079 - acc: 0.9069 - precision_11: 0.8418 - recall_11: 0.8932\n"
     ]
    }
   ],
   "source": [
    "history = model.fit(X_train, y_train, epochs=10, class_weight={0:1, 1:2}, verbose=1)"
   ]
  },
  {
   "cell_type": "code",
   "execution_count": 236,
   "metadata": {},
   "outputs": [],
   "source": [
    "# plot metrics\n",
    "# pyplot.plot(history.history['precision_7'], label='precision')\n",
    "# pyplot.plot(history.history['recall_7'], label='recall')\n",
    "# pyplot.plot(history.history['loss'], label='loss')\n",
    "# pyplot.legend(loc=\"lower left\", ncol=1, title=\"Legend\", fancybox=True)\n",
    "# pyplot.ylim(0, 1.0)\n",
    "# pyplot.show()"
   ]
  },
  {
   "cell_type": "code",
   "execution_count": 237,
   "metadata": {},
   "outputs": [
    {
     "name": "stdout",
     "output_type": "stream",
     "text": [
      "              precision    recall  f1-score   support\n",
      "\n",
      "         0.0       0.95      0.93      0.94     21678\n",
      "         1.0       0.87      0.90      0.89     11122\n",
      "\n",
      "    accuracy                           0.92     32800\n",
      "   macro avg       0.91      0.92      0.91     32800\n",
      "weighted avg       0.92      0.92      0.92     32800\n",
      "\n"
     ]
    }
   ],
   "source": [
    "predictions_train = model.predict_classes(X_train)\n",
    "print(classification_report(y_train, predictions_train))"
   ]
  },
  {
   "cell_type": "code",
   "execution_count": 238,
   "metadata": {},
   "outputs": [],
   "source": [
    "predictions = model.predict_classes(X_test)"
   ]
  },
  {
   "cell_type": "code",
   "execution_count": 246,
   "metadata": {},
   "outputs": [],
   "source": [
    "# random predictions\n",
    "predictions = np.random.choice([0, 1], size=(len(y_test),), p=[.67,.33])\n",
    "# predictions = np.random.choice([0, 1], size=(len(y_test),))\n",
    "\n",
    "# # abusing imbalance\n",
    "# predictions = np.zeros(len(y_test))\n",
    "# predictions"
   ]
  },
  {
   "cell_type": "code",
   "execution_count": 247,
   "metadata": {},
   "outputs": [],
   "source": [
    "# print(predictions[:25])"
   ]
  },
  {
   "cell_type": "code",
   "execution_count": 248,
   "metadata": {},
   "outputs": [
    {
     "name": "stdout",
     "output_type": "stream",
     "text": [
      "Accuracy: 0.564756\n",
      "Precision: 0.352744\n",
      "Recall: 0.339928\n",
      "F1 score: 0.346217\n",
      "Cohens kappa: 0.020180\n",
      "Matthews correlation coefficient: 0.020188\n",
      "ROC AUC: 0.510001\n",
      "              precision    recall  f1-score   support\n",
      "\n",
      "         0.0       0.67      0.68      0.67      5420\n",
      "         1.0       0.35      0.34      0.35      2780\n",
      "\n",
      "    accuracy                           0.56      8200\n",
      "   macro avg       0.51      0.51      0.51      8200\n",
      "weighted avg       0.56      0.56      0.56      8200\n",
      "\n"
     ]
    }
   ],
   "source": [
    "# accuracy: (tp + tn) / (p + n)\n",
    "accuracy = accuracy_score(y_test, predictions)\n",
    "print('Accuracy: %f' % accuracy)\n",
    "# precision tp / (tp + fp)\n",
    "precision = precision_score(y_test, predictions)\n",
    "print('Precision: %f' % precision)\n",
    "# recall: tp / (tp + fn)\n",
    "recall = recall_score(y_test, predictions)\n",
    "print('Recall: %f' % recall)\n",
    "# f1: 2 tp / (2 tp + fp + fn)\n",
    "f1 = f1_score(y_test, predictions)\n",
    "print('F1 score: %f' % f1)\n",
    " \n",
    "# kappa\n",
    "kappa = cohen_kappa_score(y_test, predictions)\n",
    "print('Cohens kappa: %f' % kappa)\n",
    "\n",
    "# matthews_corrcoef\n",
    "# \"A correlation of:\n",
    "#  C =  1 indicates perfect agreement,\n",
    "#  C =  0 is expected for a prediction no better than random, and\n",
    "#  C = -1 indicates total disagreement between prediction and observation\"`.\n",
    "mattc = matthews_corrcoef(y_test, predictions)\n",
    "print('Matthews correlation coefficient: %f' % mattc)\n",
    "\n",
    "# ROC AUC\n",
    "auc = roc_auc_score(y_test, predictions)\n",
    "print('ROC AUC: %f' % auc)\n",
    "# classification_report\n",
    "report = classification_report(y_test, predictions)\n",
    "print(report)\n",
    "# confusion matrix\n",
    "cm = confusion_matrix(y_test, predictions)"
   ]
  },
  {
   "cell_type": "code",
   "execution_count": 242,
   "metadata": {},
   "outputs": [
    {
     "data": {
      "image/png": "[encoded data removed]",
      "text/plain": [
       "<Figure size 432x288 with 1 Axes>"
      ]
     },
     "metadata": {
      "needs_background": "light"
     },
     "output_type": "display_data"
    }
   ],
   "source": [
    "import seaborn as sn\n",
    "import pandas as pd\n",
    "import matplotlib.pyplot as plt\n",
    "%matplotlib inline\n",
    "\n",
    "# plt.figure(figsize = (10,7))\n",
    "# sn.heatmap(cm, annot=True);\n",
    "plt.clf()\n",
    "plt.imshow(cm, interpolation='nearest', cmap=plt.cm.Wistia)\n",
    "classNames = ['Negative','Positive']\n",
    "plt.title('Confusion Matrix')\n",
    "plt.ylabel('True label')\n",
    "plt.xlabel('Predicted label')\n",
    "tick_marks = np.arange(len(classNames))\n",
    "plt.xticks(tick_marks, classNames, rotation=45)\n",
    "plt.yticks(tick_marks, classNames)\n",
    "s = [['TN','FP'], ['FN', 'TP']]\n",
    "for i in range(2):\n",
    "    for j in range(2):\n",
    "        plt.text(j,i, str(s[i][j])+\" = \"+str(cm[i][j]))\n",
    "plt.show()"
   ]
  },
  {
   "cell_type": "code",
   "execution_count": 243,
   "metadata": {},
   "outputs": [
    {
     "name": "stdout",
     "output_type": "stream",
     "text": [
      "Examples of False Negative:\n",
      "> \"online vehicle detection for estimating traffic status\" has been classified as  non AI and should be  AI\n",
      "> \"bethe learning of conditional random fields via map decoding\" has been classified as  non AI and should be  AI\n",
      "> \"input fast-forwarding for better deep learning\" has been classified as  non AI and should be  AI\n",
      "> \"semantic diversity versus visual diversity in visual dictionaries\" has been classified as  non AI and should be  AI\n",
      "> \"towards universal neural nets: gibbs machines and ace\" has been classified as  non AI and should be  AI\n",
      "> \"solving internal covariate shift in deep learning with linked neurons\" has been classified as  non AI and should be  AI\n",
      "> \"context-aware trajectory prediction\" has been classified as  non AI and should be  AI\n",
      "> \"a new approach in persian handwritten letters recognition using error correcting output coding\" has been classified as  non AI and should be  AI\n",
      "> \"stochastic function norm regularization of deep networks\" has been classified as  non AI and should be  AI\n",
      "> \"adversarial active learning for deep networks: a margin based approach\" has been classified as  non AI and should be  AI\n",
      "\n",
      "\n",
      "Examples of False Positives:\n",
      "> \"multi-source multi-view clustering via discrepancy penalty\" has been classified as  AI and should be  non AI\n",
      "> \"deep residual networks and weight initialization\" has been classified as  AI and should be  non AI\n",
      "> \"active search for sparse signals with region sensing\" has been classified as  AI and should be  non AI\n",
      "> \"using local alignments for relation recognition\" has been classified as  AI and should be  non AI\n",
      "> \"norm-preserving orthogonal permutation linear unit activation functions (oplu)\" has been classified as  AI and should be  non AI\n",
      "> \"emphatic temporal-difference learning\" has been classified as  AI and should be  non AI\n",
      "> \"generative adversarial networks\" has been classified as  AI and should be  non AI\n",
      "> \"magan: margin adaptation for generative adversarial networks\" has been classified as  AI and should be  non AI\n",
      "> \"density sensitive hashing\" has been classified as  AI and should be  non AI\n",
      "> \"optimized projections for compressed sensing via rank-constrained nearest correlation matrix\" has been classified as  AI and should be  non AI\n",
      "\n",
      "\n",
      "Examples of True Negatives:\n",
      "> \"effective approaches to attention-based neural machine translation\" has been classified as  non AI and should be  non AI\n",
      "> \"use of ensembles of fourier spectra in capturing recurrent concepts in data streams\" has been classified as  non AI and should be  non AI\n",
      "> \"distributed adaptive networks: a graphical evolutionary game-theoretic view\" has been classified as  non AI and should be  non AI\n",
      "> \"clustering with a reject option: interactive clustering as bayesian prior elicitation\" has been classified as  non AI and should be  non AI\n",
      "> \"polarity sensitivity and evaluation order in type-logical grammar\" has been classified as  non AI and should be  non AI\n",
      "> \"response to liu, xu, and liang (2015) and ferrer-i-cancho and gómez-rodríguez (2015) on dependency length minimization\" has been classified as  non AI and should be  non AI\n",
      "> \"lifted region-based belief propagation\" has been classified as  non AI and should be  non AI\n",
      "> \"backpropagation in matrix notation\" has been classified as  non AI and should be  non AI\n",
      "> \"characterizing and computing stable models of logic programs: the non-stratified case\" has been classified as  non AI and should be  non AI\n",
      "> \"a pre-semantics for counterfactual conditionals and similar logics\" has been classified as  non AI and should be  non AI\n",
      "\n",
      "\n",
      "Examples of True Positives:\n",
      "> \"face clustering: representation and pairwise constraints\" has been classified as  AI and should be  AI\n",
      "> \"thin-slicing network: a deep structured model for pose estimation in videos\" has been classified as  AI and should be  AI\n",
      "> \"deep visual domain adaptation: a survey\" has been classified as  AI and should be  AI\n",
      "> \"an optimal method for wake detection in sar images using radon transformation combined with wavelet filters\" has been classified as  AI and should be  AI\n",
      "> \"ratio-preserving half-cylindrical warps for natural image stitching\" has been classified as  AI and should be  AI\n",
      "> \"1-hkust: object detection in ilsvrc 2014\" has been classified as  AI and should be  AI\n",
      "> \"transductive zero-shot action recognition by word-vector embedding\" has been classified as  AI and should be  AI\n",
      "> \"body joint guided 3d deep convolutional descriptors for action recognition\" has been classified as  AI and should be  AI\n",
      "> \"in defense of classical image processing: fast depth completion on the cpu\" has been classified as  AI and should be  AI\n",
      "> \"striving for simplicity: the all convolutional net\" has been classified as  AI and should be  AI\n",
      "\n",
      "\n"
     ]
    }
   ],
   "source": [
    "def get_examples(prediction_value, label_value, n_examples):\n",
    "    for prediction, label, title in zip(predictions, y_test, title_test):\n",
    "        if prediction==prediction_value and label==label_value:\n",
    "            print('> \\\"'+ title +'\\\" has been classified as ', LABELS_DICT[prediction[0]], \n",
    "                  'and should be ', LABELS_DICT[label])\n",
    "            n_examples = n_examples - 1\n",
    "            if n_examples<1:\n",
    "                print('\\n')\n",
    "                break;\n",
    "\n",
    "\n",
    "n_examples=10\n",
    "\n",
    "print(\"Examples of False Negative:\")\n",
    "get_examples(0,1,n_examples)\n",
    "\n",
    "print(\"Examples of False Positives:\")\n",
    "get_examples(1,0,n_examples)\n",
    "\n",
    "print(\"Examples of True Negatives:\")\n",
    "get_examples(0,0,n_examples)\n",
    "\n",
    "print(\"Examples of True Positives:\")\n",
    "get_examples(1,1,n_examples)"
   ]
  },
  {
   "cell_type": "code",
   "execution_count": 244,
   "metadata": {},
   "outputs": [
    {
     "name": "stdout",
     "output_type": "stream",
     "text": [
      "[5 3 5]\n"
     ]
    }
   ],
   "source": [
    "test = np.arange(6)\n",
    "idx = [5,3,5]\n",
    "print(test[idx])\n",
    "# print([test[i] for i in idx])"
   ]
  },
  {
   "cell_type": "code",
   "execution_count": 245,
   "metadata": {},
   "outputs": [
    {
     "name": "stdout",
     "output_type": "stream",
     "text": [
      "{0: 'a', 1: 'b', 2: 'c', 3: 'd', 4: 'e', 5: 'f', 6: 'g', 7: 'h', 8: 'i', 9: 'j'}\n"
     ]
    },
    {
     "data": {
      "text/plain": [
       "[['a', 'b', 'c', 'd'], ['e', 'f', 'g', 'h'], ['i', 'j']]"
      ]
     },
     "execution_count": 245,
     "metadata": {},
     "output_type": "execute_result"
    }
   ],
   "source": [
    "import string\n",
    "dictwalk = dict(zip(range(10), list(string.ascii_lowercase)))\n",
    "print(dictwalk)\n",
    "walks = [[0,1,2,3],[4,5,6,7],[8,9]]\n",
    "for walk in walks:\n",
    "    map(str, walk)\n",
    "[list(map(lambda x: dictwalk[x], walk)) for walk in walks]"
   ]
  },
  {
   "cell_type": "code",
   "execution_count": null,
   "metadata": {},
   "outputs": [],
   "source": []
  },
  {
   "cell_type": "code",
   "execution_count": null,
   "metadata": {},
   "outputs": [],
   "source": []
  }
 ],
 "metadata": {
  "kernelspec": {
   "display_name": "Python [conda env:py36_bert-text-classification-arxiv]",
   "language": "python",
   "name": "conda-env-py36_bert-text-classification-arxiv-py"
  },
  "language_info": {
   "codemirror_mode": {
    "name": "ipython",
    "version": 3
   },
   "file_extension": ".py",
   "mimetype": "text/x-python",
   "name": "python",
   "nbconvert_exporter": "python",
   "pygments_lexer": "ipython3",
   "version": "3.6.8"
  }
 },
 "nbformat": 4,
 "nbformat_minor": 2
}
